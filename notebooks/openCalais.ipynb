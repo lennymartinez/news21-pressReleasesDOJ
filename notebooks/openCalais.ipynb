{
 "cells": [
  {
   "cell_type": "markdown",
   "metadata": {},
   "source": [
    "# Open Calais \n",
    "\n",
    "The goal of this exercise is to pass the 165 press releases of interest through the Open Calais API and extract the Location and Person entities for comparison. I hope to get a list of all the locations and people referenced in each release and then count them over all the releases. "
   ]
  },
  {
   "cell_type": "markdown",
   "metadata": {},
   "source": [
    "## Getting the documents\n",
    "\n",
    "From the tagging work I did, there were **165** press releases related to hate crimes that I will put the Open Calais API. I used the export feature from Overview Docs to export all 165 documents of interest to a folder at the root of the repo : `forOpenCalais/`"
   ]
  },
  {
   "cell_type": "code",
   "execution_count": 11,
   "metadata": {},
   "outputs": [],
   "source": [
    "import os\n",
    "import requests"
   ]
  },
  {
   "cell_type": "code",
   "execution_count": 21,
   "metadata": {},
   "outputs": [],
   "source": [
    "calais_url = 'https://api.thomsonreuters.com/permid/calais'\n",
    "access_token = 'US2m1aJe7H78TMCiZZtA1BEkhRGG7fFC'\n",
    "headers = {'X-AG-Access-Token' : access_token, 'Content-Type' : 'text/raw', 'outputformat' : 'application/json'}"
   ]
  },
  {
   "cell_type": "code",
   "execution_count": 22,
   "metadata": {},
   "outputs": [],
   "source": [
    "test_file = '../forOpenCalais/release_00051.txt'"
   ]
  },
  {
   "cell_type": "code",
   "execution_count": 32,
   "metadata": {
    "scrolled": false
   },
   "outputs": [],
   "source": [
    "with open (test_file, 'rb') as input_data:\n",
    "    response = requests.post(calais_url, data=input_data, headers=headers, timeout=80)\n",
    "    #print ('status code: %s' % response.status_code)\n",
    "    content = response.text\n",
    "    #print ('Results received: %s' % content)"
   ]
  },
  {
   "cell_type": "markdown",
   "metadata": {},
   "source": [
    "Now that I've figured out how to get a single tag, I need to etract the Person and location entities. "
   ]
  },
  {
   "cell_type": "code",
   "execution_count": null,
   "metadata": {},
   "outputs": [],
   "source": []
  }
 ],
 "metadata": {
  "kernelspec": {
   "display_name": "Python 3",
   "language": "python",
   "name": "python3"
  },
  "language_info": {
   "codemirror_mode": {
    "name": "ipython",
    "version": 3
   },
   "file_extension": ".py",
   "mimetype": "text/x-python",
   "name": "python",
   "nbconvert_exporter": "python",
   "pygments_lexer": "ipython3",
   "version": "3.6.5"
  }
 },
 "nbformat": 4,
 "nbformat_minor": 2
}
