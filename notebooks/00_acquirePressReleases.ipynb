{
 "cells": [
  {
   "cell_type": "markdown",
   "metadata": {},
   "source": [
    "# DoJ press releases\n",
    "\n",
    "The goal of this exrcise is to first scrape all the press releases from the Department of Justice's website and then use them to understand broadly how the DoJ has been dealing with hate crimes at the federal level. \n",
    "\n",
    "Working with the press releases I'm hoping to answer some points such as: \n",
    "* Who has been prosecuting hate crimes in the DoJ?\n",
    "* What districts are active when it comes to prosecuting hate crimes?\n",
    "* Who are the victims and perpetrators of hate crimes?\n",
    "* What's the frequency of hate crime laws that have been prosecuted over the years? "
   ]
  },
  {
   "cell_type": "code",
   "execution_count": null,
   "metadata": {},
   "outputs": [],
   "source": []
  }
 ],
 "metadata": {
  "kernelspec": {
   "display_name": "Python 3",
   "language": "python",
   "name": "python3"
  },
  "language_info": {
   "codemirror_mode": {
    "name": "ipython",
    "version": 3
   },
   "file_extension": ".py",
   "mimetype": "text/x-python",
   "name": "python",
   "nbconvert_exporter": "python",
   "pygments_lexer": "ipython3",
   "version": "3.6.5"
  }
 },
 "nbformat": 4,
 "nbformat_minor": 2
}
